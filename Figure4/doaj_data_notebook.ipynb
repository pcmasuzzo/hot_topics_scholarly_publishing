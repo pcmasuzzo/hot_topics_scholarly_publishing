{
 "cells": [
  {
   "cell_type": "code",
   "execution_count": 2,
   "metadata": {},
   "outputs": [
    {
     "name": "stdout",
     "output_type": "stream",
     "text": [
      "Populating the interactive namespace from numpy and matplotlib\n"
     ]
    }
   ],
   "source": [
    "%pylab inline\n",
    "\n",
    "import sys\n",
    "import pandas as pd\n",
    "import numpy as np\n",
    "import matplotlib\n",
    "\n",
    "import seaborn as sns"
   ]
  },
  {
   "cell_type": "code",
   "execution_count": 3,
   "metadata": {},
   "outputs": [
    {
     "name": "stdout",
     "output_type": "stream",
     "text": [
      "Python version:\n",
      "3.6.2 |Anaconda, Inc.| (default, Sep 19 2017, 08:03:39) [MSC v.1900 64 bit (AMD64)]\n",
      "\n",
      "matplotlib version: 2.0.2\n",
      "pandas version: 0.20.3\n",
      "numpy version: 1.13.1\n",
      "seaborn version: 0.9.0\n"
     ]
    }
   ],
   "source": [
    "print(\"Python version:\\n{}\\n\".format(sys.version))\n",
    "print(\"matplotlib version: {}\".format(matplotlib.__version__))\n",
    "print(\"pandas version: {}\".format(pd.__version__))\n",
    "print(\"numpy version: {}\".format(np.__version__))\n",
    "print(\"seaborn version: {}\".format(sns.__version__))"
   ]
  },
  {
   "cell_type": "markdown",
   "metadata": {},
   "source": [
    "###  DOAJ metadata queried the 10th of March 2019"
   ]
  },
  {
   "cell_type": "code",
   "execution_count": 5,
   "metadata": {},
   "outputs": [
    {
     "data": {
      "text/html": [
       "<div>\n",
       "<style>\n",
       "    .dataframe thead tr:only-child th {\n",
       "        text-align: right;\n",
       "    }\n",
       "\n",
       "    .dataframe thead th {\n",
       "        text-align: left;\n",
       "    }\n",
       "\n",
       "    .dataframe tbody tr th {\n",
       "        vertical-align: top;\n",
       "    }\n",
       "</style>\n",
       "<table border=\"1\" class=\"dataframe\">\n",
       "  <thead>\n",
       "    <tr style=\"text-align: right;\">\n",
       "      <th></th>\n",
       "      <th>Journal title</th>\n",
       "      <th>Journal URL</th>\n",
       "      <th>Alternative title</th>\n",
       "      <th>Journal ISSN (print version)</th>\n",
       "      <th>Journal EISSN (online version)</th>\n",
       "      <th>Publisher</th>\n",
       "      <th>Society or institution</th>\n",
       "      <th>Platform, host or aggregator</th>\n",
       "      <th>Country of publisher</th>\n",
       "      <th>Journal article processing charges (APCs)</th>\n",
       "      <th>...</th>\n",
       "      <th>Does this journal allow unrestricted reuse in compliance with BOAI?</th>\n",
       "      <th>Deposit policy directory</th>\n",
       "      <th>Author holds copyright without restrictions</th>\n",
       "      <th>Copyright information URL</th>\n",
       "      <th>Author holds publishing rights without restrictions</th>\n",
       "      <th>Publishing rights information URL</th>\n",
       "      <th>DOAJ Seal</th>\n",
       "      <th>Tick: Accepted after March 2014</th>\n",
       "      <th>Added on Date</th>\n",
       "      <th>Subjects</th>\n",
       "    </tr>\n",
       "  </thead>\n",
       "  <tbody>\n",
       "    <tr>\n",
       "      <th>0</th>\n",
       "      <td>Revista de Microbiologia</td>\n",
       "      <td>http://www.scielo.br/scielo.php/script_sci_ser...</td>\n",
       "      <td>Journal of the Brazilian Society for Microbiology</td>\n",
       "      <td>0001-3714</td>\n",
       "      <td>1678-9881</td>\n",
       "      <td>Sociedade Brasileira de Microbiologia</td>\n",
       "      <td>NaN</td>\n",
       "      <td>SciELO Brazil</td>\n",
       "      <td>Brazil</td>\n",
       "      <td>No Information</td>\n",
       "      <td>...</td>\n",
       "      <td>NaN</td>\n",
       "      <td>NaN</td>\n",
       "      <td>NaN</td>\n",
       "      <td>NaN</td>\n",
       "      <td>NaN</td>\n",
       "      <td>NaN</td>\n",
       "      <td>No</td>\n",
       "      <td>No</td>\n",
       "      <td>2004-04-23T21:31:00Z</td>\n",
       "      <td>Science: Microbiology</td>\n",
       "    </tr>\n",
       "    <tr>\n",
       "      <th>1</th>\n",
       "      <td>Anais da Academia Brasileira de Ciências</td>\n",
       "      <td>http://www.scielo.br/scielo.php?script=sci_ser...</td>\n",
       "      <td>Annals of the Brazilian Academy of Sciences</td>\n",
       "      <td>0001-3765</td>\n",
       "      <td>1678-2690</td>\n",
       "      <td>Academia Brasileira de Ciências</td>\n",
       "      <td>NaN</td>\n",
       "      <td>SciELO Brazil</td>\n",
       "      <td>Brazil</td>\n",
       "      <td>No</td>\n",
       "      <td>...</td>\n",
       "      <td>Yes</td>\n",
       "      <td>NaN</td>\n",
       "      <td>False</td>\n",
       "      <td>NaN</td>\n",
       "      <td>False</td>\n",
       "      <td>NaN</td>\n",
       "      <td>No</td>\n",
       "      <td>Yes</td>\n",
       "      <td>2004-04-23T21:31:00Z</td>\n",
       "      <td>Science</td>\n",
       "    </tr>\n",
       "    <tr>\n",
       "      <th>2</th>\n",
       "      <td>ACME</td>\n",
       "      <td>http://riviste.unimi.it/index.php/ACME</td>\n",
       "      <td>NaN</td>\n",
       "      <td>0001-494X</td>\n",
       "      <td>2282-0035</td>\n",
       "      <td>Università degli Studi di Milano</td>\n",
       "      <td>NaN</td>\n",
       "      <td>OJS</td>\n",
       "      <td>Italy</td>\n",
       "      <td>No</td>\n",
       "      <td>...</td>\n",
       "      <td>Yes</td>\n",
       "      <td>NaN</td>\n",
       "      <td>True</td>\n",
       "      <td>http://riviste.unimi.it/index.php/ACME/about/e...</td>\n",
       "      <td>True</td>\n",
       "      <td>http://riviste.unimi.it/index.php/ACME/about/s...</td>\n",
       "      <td>No</td>\n",
       "      <td>Yes</td>\n",
       "      <td>2014-12-22T19:55:58Z</td>\n",
       "      <td>General Works</td>\n",
       "    </tr>\n",
       "    <tr>\n",
       "      <th>3</th>\n",
       "      <td>Acta Dermato-Venereologica</td>\n",
       "      <td>http://www.medicaljournals.se/acta</td>\n",
       "      <td>NaN</td>\n",
       "      <td>0001-5555</td>\n",
       "      <td>1651-2057</td>\n",
       "      <td>Society for Publication of Acta Dermato-Venere...</td>\n",
       "      <td>NaN</td>\n",
       "      <td>Society for Publication of Acta Dermato-Venere...</td>\n",
       "      <td>Sweden</td>\n",
       "      <td>Yes</td>\n",
       "      <td>...</td>\n",
       "      <td>Yes</td>\n",
       "      <td>Sherpa/Romeo</td>\n",
       "      <td>False</td>\n",
       "      <td>NaN</td>\n",
       "      <td>False</td>\n",
       "      <td>NaN</td>\n",
       "      <td>No</td>\n",
       "      <td>Yes</td>\n",
       "      <td>2011-11-10T12:31:05Z</td>\n",
       "      <td>Medicine: Dermatology</td>\n",
       "    </tr>\n",
       "    <tr>\n",
       "      <th>4</th>\n",
       "      <td>Acta Mycologica</td>\n",
       "      <td>https://pbsociety.org.pl/journals/index.php/am...</td>\n",
       "      <td>NaN</td>\n",
       "      <td>0001-625X</td>\n",
       "      <td>2353-074X</td>\n",
       "      <td>Polish Botanical Society</td>\n",
       "      <td>NaN</td>\n",
       "      <td>OJS</td>\n",
       "      <td>Poland</td>\n",
       "      <td>Yes</td>\n",
       "      <td>...</td>\n",
       "      <td>Yes</td>\n",
       "      <td>Sherpa/Romeo</td>\n",
       "      <td>True</td>\n",
       "      <td>https://pbsociety.org.pl/journals/index.php/am...</td>\n",
       "      <td>True</td>\n",
       "      <td>https://pbsociety.org.pl/journals/index.php/am...</td>\n",
       "      <td>No</td>\n",
       "      <td>Yes</td>\n",
       "      <td>2014-05-29T20:02:32Z</td>\n",
       "      <td>Science: Biology (General)</td>\n",
       "    </tr>\n",
       "  </tbody>\n",
       "</table>\n",
       "<p>5 rows × 57 columns</p>\n",
       "</div>"
      ],
      "text/plain": [
       "                              Journal title  \\\n",
       "0                  Revista de Microbiologia   \n",
       "1  Anais da Academia Brasileira de Ciências   \n",
       "2                                      ACME   \n",
       "3                Acta Dermato-Venereologica   \n",
       "4                           Acta Mycologica   \n",
       "\n",
       "                                         Journal URL  \\\n",
       "0  http://www.scielo.br/scielo.php/script_sci_ser...   \n",
       "1  http://www.scielo.br/scielo.php?script=sci_ser...   \n",
       "2             http://riviste.unimi.it/index.php/ACME   \n",
       "3                 http://www.medicaljournals.se/acta   \n",
       "4  https://pbsociety.org.pl/journals/index.php/am...   \n",
       "\n",
       "                                   Alternative title  \\\n",
       "0  Journal of the Brazilian Society for Microbiology   \n",
       "1        Annals of the Brazilian Academy of Sciences   \n",
       "2                                                NaN   \n",
       "3                                                NaN   \n",
       "4                                                NaN   \n",
       "\n",
       "  Journal ISSN (print version) Journal EISSN (online version)  \\\n",
       "0                    0001-3714                      1678-9881   \n",
       "1                    0001-3765                      1678-2690   \n",
       "2                    0001-494X                      2282-0035   \n",
       "3                    0001-5555                      1651-2057   \n",
       "4                    0001-625X                      2353-074X   \n",
       "\n",
       "                                           Publisher Society or institution  \\\n",
       "0              Sociedade Brasileira de Microbiologia                    NaN   \n",
       "1                    Academia Brasileira de Ciências                    NaN   \n",
       "2                   Università degli Studi di Milano                    NaN   \n",
       "3  Society for Publication of Acta Dermato-Venere...                    NaN   \n",
       "4                           Polish Botanical Society                    NaN   \n",
       "\n",
       "                        Platform, host or aggregator Country of publisher  \\\n",
       "0                                      SciELO Brazil               Brazil   \n",
       "1                                      SciELO Brazil               Brazil   \n",
       "2                                                OJS                Italy   \n",
       "3  Society for Publication of Acta Dermato-Venere...               Sweden   \n",
       "4                                                OJS               Poland   \n",
       "\n",
       "  Journal article processing charges (APCs)             ...              \\\n",
       "0                            No Information             ...               \n",
       "1                                        No             ...               \n",
       "2                                        No             ...               \n",
       "3                                       Yes             ...               \n",
       "4                                       Yes             ...               \n",
       "\n",
       "  Does this journal allow unrestricted reuse in compliance with BOAI?  \\\n",
       "0                                                NaN                    \n",
       "1                                                Yes                    \n",
       "2                                                Yes                    \n",
       "3                                                Yes                    \n",
       "4                                                Yes                    \n",
       "\n",
       "   Deposit policy directory Author holds copyright without restrictions  \\\n",
       "0                       NaN                                         NaN   \n",
       "1                       NaN                                       False   \n",
       "2                       NaN                                        True   \n",
       "3              Sherpa/Romeo                                       False   \n",
       "4              Sherpa/Romeo                                        True   \n",
       "\n",
       "                           Copyright information URL  \\\n",
       "0                                                NaN   \n",
       "1                                                NaN   \n",
       "2  http://riviste.unimi.it/index.php/ACME/about/e...   \n",
       "3                                                NaN   \n",
       "4  https://pbsociety.org.pl/journals/index.php/am...   \n",
       "\n",
       "  Author holds publishing rights without restrictions  \\\n",
       "0                                                NaN    \n",
       "1                                              False    \n",
       "2                                               True    \n",
       "3                                              False    \n",
       "4                                               True    \n",
       "\n",
       "                   Publishing rights information URL DOAJ Seal  \\\n",
       "0                                                NaN        No   \n",
       "1                                                NaN        No   \n",
       "2  http://riviste.unimi.it/index.php/ACME/about/s...        No   \n",
       "3                                                NaN        No   \n",
       "4  https://pbsociety.org.pl/journals/index.php/am...        No   \n",
       "\n",
       "   Tick: Accepted after March 2014         Added on Date  \\\n",
       "0                               No  2004-04-23T21:31:00Z   \n",
       "1                              Yes  2004-04-23T21:31:00Z   \n",
       "2                              Yes  2014-12-22T19:55:58Z   \n",
       "3                              Yes  2011-11-10T12:31:05Z   \n",
       "4                              Yes  2014-05-29T20:02:32Z   \n",
       "\n",
       "                     Subjects  \n",
       "0       Science: Microbiology  \n",
       "1                     Science  \n",
       "2               General Works  \n",
       "3       Medicine: Dermatology  \n",
       "4  Science: Biology (General)  \n",
       "\n",
       "[5 rows x 57 columns]"
      ]
     },
     "execution_count": 5,
     "metadata": {},
     "output_type": "execute_result"
    }
   ],
   "source": [
    "doaj_data = pd.read_csv('data/doaj_20190310_1030_utf8.csv')\n",
    "doaj_data.head()"
   ]
  },
  {
   "cell_type": "code",
   "execution_count": 8,
   "metadata": {},
   "outputs": [
    {
     "name": "stdout",
     "output_type": "stream",
     "text": [
      "number of journals found: 12709\n"
     ]
    }
   ],
   "source": [
    "print(\"number of journals found: {}\".format(doaj_data[\"Journal title\"].nunique()))"
   ]
  },
  {
   "cell_type": "markdown",
   "metadata": {},
   "source": [
    "### Get percentages of journals having or not an APC "
   ]
  },
  {
   "cell_type": "code",
   "execution_count": 9,
   "metadata": {},
   "outputs": [
    {
     "data": {
      "text/html": [
       "<div>\n",
       "<style>\n",
       "    .dataframe thead tr:only-child th {\n",
       "        text-align: right;\n",
       "    }\n",
       "\n",
       "    .dataframe thead th {\n",
       "        text-align: left;\n",
       "    }\n",
       "\n",
       "    .dataframe tbody tr th {\n",
       "        vertical-align: top;\n",
       "    }\n",
       "</style>\n",
       "<table border=\"1\" class=\"dataframe\">\n",
       "  <thead>\n",
       "    <tr style=\"text-align: right;\">\n",
       "      <th></th>\n",
       "      <th>has APCs</th>\n",
       "      <th>pctg journals</th>\n",
       "    </tr>\n",
       "  </thead>\n",
       "  <tbody>\n",
       "    <tr>\n",
       "      <th>0</th>\n",
       "      <td>No</td>\n",
       "      <td>0.732890</td>\n",
       "    </tr>\n",
       "    <tr>\n",
       "      <th>1</th>\n",
       "      <td>Yes</td>\n",
       "      <td>0.262569</td>\n",
       "    </tr>\n",
       "    <tr>\n",
       "      <th>2</th>\n",
       "      <td>No Information</td>\n",
       "      <td>0.004542</td>\n",
       "    </tr>\n",
       "  </tbody>\n",
       "</table>\n",
       "</div>"
      ],
      "text/plain": [
       "         has APCs  pctg journals\n",
       "0              No       0.732890\n",
       "1             Yes       0.262569\n",
       "2  No Information       0.004542"
      ]
     },
     "execution_count": 9,
     "metadata": {},
     "output_type": "execute_result"
    }
   ],
   "source": [
    "pctg = pd.DataFrame(doaj_data[\"Journal article processing charges (APCs)\"].value_counts(normalize=True).reset_index())\n",
    "pctg.columns=(['has APCs', 'pctg journals'])\n",
    "pctg"
   ]
  },
  {
   "cell_type": "code",
   "execution_count": 10,
   "metadata": {},
   "outputs": [
    {
     "data": {
      "text/html": [
       "<div>\n",
       "<style>\n",
       "    .dataframe thead tr:only-child th {\n",
       "        text-align: right;\n",
       "    }\n",
       "\n",
       "    .dataframe thead th {\n",
       "        text-align: left;\n",
       "    }\n",
       "\n",
       "    .dataframe tbody tr th {\n",
       "        vertical-align: top;\n",
       "    }\n",
       "</style>\n",
       "<table border=\"1\" class=\"dataframe\">\n",
       "  <thead>\n",
       "    <tr style=\"text-align: right;\">\n",
       "      <th></th>\n",
       "      <th>has APCs</th>\n",
       "      <th>nr journals</th>\n",
       "    </tr>\n",
       "  </thead>\n",
       "  <tbody>\n",
       "    <tr>\n",
       "      <th>0</th>\n",
       "      <td>No</td>\n",
       "      <td>9359</td>\n",
       "    </tr>\n",
       "    <tr>\n",
       "      <th>1</th>\n",
       "      <td>Yes</td>\n",
       "      <td>3353</td>\n",
       "    </tr>\n",
       "    <tr>\n",
       "      <th>2</th>\n",
       "      <td>No Information</td>\n",
       "      <td>58</td>\n",
       "    </tr>\n",
       "  </tbody>\n",
       "</table>\n",
       "</div>"
      ],
      "text/plain": [
       "         has APCs  nr journals\n",
       "0              No         9359\n",
       "1             Yes         3353\n",
       "2  No Information           58"
      ]
     },
     "execution_count": 10,
     "metadata": {},
     "output_type": "execute_result"
    }
   ],
   "source": [
    "nr = pd.DataFrame(doaj_data[\"Journal article processing charges (APCs)\"].value_counts(normalize=False).reset_index())\n",
    "nr.columns=(['has APCs', 'nr journals'])\n",
    "nr"
   ]
  },
  {
   "cell_type": "code",
   "execution_count": 11,
   "metadata": {},
   "outputs": [
    {
     "data": {
      "text/html": [
       "<div>\n",
       "<style>\n",
       "    .dataframe thead tr:only-child th {\n",
       "        text-align: right;\n",
       "    }\n",
       "\n",
       "    .dataframe thead th {\n",
       "        text-align: left;\n",
       "    }\n",
       "\n",
       "    .dataframe tbody tr th {\n",
       "        vertical-align: top;\n",
       "    }\n",
       "</style>\n",
       "<table border=\"1\" class=\"dataframe\">\n",
       "  <thead>\n",
       "    <tr style=\"text-align: right;\">\n",
       "      <th></th>\n",
       "      <th>has APCs</th>\n",
       "      <th>pctg journals</th>\n",
       "      <th>nr journals</th>\n",
       "    </tr>\n",
       "  </thead>\n",
       "  <tbody>\n",
       "    <tr>\n",
       "      <th>0</th>\n",
       "      <td>No</td>\n",
       "      <td>0.732890</td>\n",
       "      <td>9359</td>\n",
       "    </tr>\n",
       "    <tr>\n",
       "      <th>1</th>\n",
       "      <td>Yes</td>\n",
       "      <td>0.262569</td>\n",
       "      <td>3353</td>\n",
       "    </tr>\n",
       "    <tr>\n",
       "      <th>2</th>\n",
       "      <td>No Information</td>\n",
       "      <td>0.004542</td>\n",
       "      <td>58</td>\n",
       "    </tr>\n",
       "  </tbody>\n",
       "</table>\n",
       "</div>"
      ],
      "text/plain": [
       "         has APCs  pctg journals  nr journals\n",
       "0              No       0.732890         9359\n",
       "1             Yes       0.262569         3353\n",
       "2  No Information       0.004542           58"
      ]
     },
     "execution_count": 11,
     "metadata": {},
     "output_type": "execute_result"
    }
   ],
   "source": [
    "t = pctg.merge(nr, on=\"has APCs\")\n",
    "t"
   ]
  },
  {
   "cell_type": "code",
   "execution_count": 12,
   "metadata": {},
   "outputs": [
    {
     "data": {
      "text/html": [
       "<style  type=\"text/css\" >\n",
       "</style>  \n",
       "<table id=\"T_48c59ae4_6287_11e9_a718_bc8385de184a\" > \n",
       "<thead>    <tr> \n",
       "        <th class=\"blank level0\" ></th> \n",
       "        <th class=\"col_heading level0 col0\" >has APCs</th> \n",
       "        <th class=\"col_heading level0 col1\" >pctg journals</th> \n",
       "        <th class=\"col_heading level0 col2\" >nr journals</th> \n",
       "    </tr></thead> \n",
       "<tbody>    <tr> \n",
       "        <th id=\"T_48c59ae4_6287_11e9_a718_bc8385de184alevel0_row0\" class=\"row_heading level0 row0\" >0</th> \n",
       "        <td id=\"T_48c59ae4_6287_11e9_a718_bc8385de184arow0_col0\" class=\"data row0 col0\" >No</td> \n",
       "        <td id=\"T_48c59ae4_6287_11e9_a718_bc8385de184arow0_col1\" class=\"data row0 col1\" >73.29%</td> \n",
       "        <td id=\"T_48c59ae4_6287_11e9_a718_bc8385de184arow0_col2\" class=\"data row0 col2\" >9359</td> \n",
       "    </tr>    <tr> \n",
       "        <th id=\"T_48c59ae4_6287_11e9_a718_bc8385de184alevel0_row1\" class=\"row_heading level0 row1\" >1</th> \n",
       "        <td id=\"T_48c59ae4_6287_11e9_a718_bc8385de184arow1_col0\" class=\"data row1 col0\" >Yes</td> \n",
       "        <td id=\"T_48c59ae4_6287_11e9_a718_bc8385de184arow1_col1\" class=\"data row1 col1\" >26.26%</td> \n",
       "        <td id=\"T_48c59ae4_6287_11e9_a718_bc8385de184arow1_col2\" class=\"data row1 col2\" >3353</td> \n",
       "    </tr>    <tr> \n",
       "        <th id=\"T_48c59ae4_6287_11e9_a718_bc8385de184alevel0_row2\" class=\"row_heading level0 row2\" >2</th> \n",
       "        <td id=\"T_48c59ae4_6287_11e9_a718_bc8385de184arow2_col0\" class=\"data row2 col0\" >No Information</td> \n",
       "        <td id=\"T_48c59ae4_6287_11e9_a718_bc8385de184arow2_col1\" class=\"data row2 col1\" >0.45%</td> \n",
       "        <td id=\"T_48c59ae4_6287_11e9_a718_bc8385de184arow2_col2\" class=\"data row2 col2\" >58</td> \n",
       "    </tr></tbody> \n",
       "</table> "
      ],
      "text/plain": [
       "<pandas.io.formats.style.Styler at 0x1b4f2139470>"
      ]
     },
     "execution_count": 12,
     "metadata": {},
     "output_type": "execute_result"
    }
   ],
   "source": [
    "t.style.format({\"pctg journals\": '{:.2%}'})"
   ]
  },
  {
   "cell_type": "code",
   "execution_count": 13,
   "metadata": {},
   "outputs": [
    {
     "data": {
      "text/plain": [
       "nr journals    12770\n",
       "dtype: int64"
      ]
     },
     "execution_count": 13,
     "metadata": {},
     "output_type": "execute_result"
    }
   ],
   "source": [
    "(t[[\"nr journals\"]].sum())"
   ]
  },
  {
   "cell_type": "code",
   "execution_count": 14,
   "metadata": {
    "collapsed": true
   },
   "outputs": [],
   "source": [
    "def set_style():\n",
    "    # This sets reasonable defaults for font size for\n",
    "    # a figure that will go in a paper\n",
    "    sns.set_context(\"paper\")\n",
    "    \n",
    "    # Set the font to be serif, rather than sans\n",
    "    sns.set(font='serif')\n",
    "    \n",
    "    # Make the background white, and specify the\n",
    "    # specific font family\n",
    "    sns.set_style(\"white\", {\n",
    "        \"font.family\": \"serif\",\n",
    "        \"font.serif\": [\"Times\", \"Palatino\", \"serif\"]\n",
    "    })\n",
    "\n",
    "\n",
    "set_style()"
   ]
  },
  {
   "cell_type": "code",
   "execution_count": 17,
   "metadata": {},
   "outputs": [
    {
     "data": {
      "image/png": "[encoded data removed]",
      "text/plain": [
       "<matplotlib.figure.Figure at 0x1b4f23fe7b8>"
      ]
     },
     "metadata": {},
     "output_type": "display_data"
    }
   ],
   "source": [
    "fig, ax= plt.subplots(1,1, figsize=(15,5))\n",
    "\n",
    "g = sns.barplot(x = \"pctg journals\", y=\"has APCs\", data=t, palette = sns.color_palette([\"#55a868\",\"#c44e52\", \"#4c72b0\"]))\n",
    "for index, row in t.iterrows():\n",
    "    g.text(row[\"pctg journals\"],index, row[\"nr journals\"], color='black', ha=\"left\", size=14)\n",
    "\n",
    "plt.title('metadata at 10-03-2019: tot nr of journals: {}'.format(t[[\"nr journals\"]].sum()[0]))\n",
    "plt.xlabel('percentage of mapped journals')\n",
    "plt.savefig('output/Figure_4.pdf', format='pdf', dpi=1000)"
   ]
  },
  {
   "cell_type": "code",
   "execution_count": null,
   "metadata": {
    "collapsed": true
   },
   "outputs": [],
   "source": []
  }
 ],
 "metadata": {
  "kernelspec": {
   "display_name": "Python 3",
   "language": "python",
   "name": "python3"
  },
  "language_info": {
   "codemirror_mode": {
    "name": "ipython",
    "version": 3
   },
   "file_extension": ".py",
   "mimetype": "text/x-python",
   "name": "python",
   "nbconvert_exporter": "python",
   "pygments_lexer": "ipython3",
   "version": "3.6.2"
  }
 },
 "nbformat": 4,
 "nbformat_minor": 2
}
